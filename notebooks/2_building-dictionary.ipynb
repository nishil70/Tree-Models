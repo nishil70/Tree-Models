{
 "cells": [
  {
   "cell_type": "markdown",
   "metadata": {},
   "source": [
    "## Demonstration of Building Dictionary and Transition Probability Matrix"
   ]
  },
  {
   "cell_type": "code",
   "execution_count": 1,
   "metadata": {},
   "outputs": [],
   "source": [
    "import pandas as pd\n",
    "import numpy as np\n",
    "import warnings\n",
    "warnings.filterwarnings('ignore')"
   ]
  },
  {
   "cell_type": "markdown",
   "metadata": {},
   "source": [
    "### Comment on below dataframe:\n",
    "- At this point i had tokenized the data i will be using to train my models\n",
    "- Model_1 will be trained with Summary data (shorter sentences)\n",
    "- Model_2 will be trained with Review data (each review is a lot longer than a summary)"
   ]
  },
  {
   "cell_type": "code",
   "execution_count": 2,
   "metadata": {},
   "outputs": [
    {
     "data": {
      "text/html": [
       "<div>\n",
       "<style scoped>\n",
       "    .dataframe tbody tr th:only-of-type {\n",
       "        vertical-align: middle;\n",
       "    }\n",
       "\n",
       "    .dataframe tbody tr th {\n",
       "        vertical-align: top;\n",
       "    }\n",
       "\n",
       "    .dataframe thead th {\n",
       "        text-align: right;\n",
       "    }\n",
       "</style>\n",
       "<table border=\"1\" class=\"dataframe\">\n",
       "  <thead>\n",
       "    <tr style=\"text-align: right;\">\n",
       "      <th></th>\n",
       "      <th>tokenized_Summary</th>\n",
       "      <th>tokenized_Reviews</th>\n",
       "    </tr>\n",
       "  </thead>\n",
       "  <tbody>\n",
       "    <tr>\n",
       "      <th>0</th>\n",
       "      <td>[Good, Quality, Dog, Food]</td>\n",
       "      <td>[I, have, bought, several, of, the, Vitality, ...</td>\n",
       "    </tr>\n",
       "    <tr>\n",
       "      <th>1</th>\n",
       "      <td>[Not, as, Advertised]</td>\n",
       "      <td>[Product, arrived, labeled, as, Jumbo, Salted,...</td>\n",
       "    </tr>\n",
       "    <tr>\n",
       "      <th>2</th>\n",
       "      <td>[``, Delight, '', says, it, all]</td>\n",
       "      <td>[This, is, a, confection, that, has, been, aro...</td>\n",
       "    </tr>\n",
       "    <tr>\n",
       "      <th>3</th>\n",
       "      <td>[Cough, Medicine]</td>\n",
       "      <td>[If, you, are, looking, for, the, secret, ingr...</td>\n",
       "    </tr>\n",
       "    <tr>\n",
       "      <th>4</th>\n",
       "      <td>[Great, taffy]</td>\n",
       "      <td>[Great, taffy, at, a, great, price, ., There, ...</td>\n",
       "    </tr>\n",
       "  </tbody>\n",
       "</table>\n",
       "</div>"
      ],
      "text/plain": [
       "                  tokenized_Summary  \\\n",
       "0        [Good, Quality, Dog, Food]   \n",
       "1             [Not, as, Advertised]   \n",
       "2  [``, Delight, '', says, it, all]   \n",
       "3                 [Cough, Medicine]   \n",
       "4                    [Great, taffy]   \n",
       "\n",
       "                                   tokenized_Reviews  \n",
       "0  [I, have, bought, several, of, the, Vitality, ...  \n",
       "1  [Product, arrived, labeled, as, Jumbo, Salted,...  \n",
       "2  [This, is, a, confection, that, has, been, aro...  \n",
       "3  [If, you, are, looking, for, the, secret, ingr...  \n",
       "4  [Great, taffy, at, a, great, price, ., There, ...  "
      ]
     },
     "execution_count": 2,
     "metadata": {},
     "output_type": "execute_result"
    }
   ],
   "source": [
    "df = pd.read_pickle(r'C:\\Users\\nishi\\source\\repos\\HiddenMarkovModel\\archives\\my_df.pkl',compression='gzip')\n",
    "df = df[['tokenized_Summary', 'tokenized_Reviews']]\n",
    "df.head()"
   ]
  },
  {
   "cell_type": "code",
   "execution_count": 3,
   "metadata": {},
   "outputs": [],
   "source": [
    "# Getting the list of all words \n",
    "words = []\n",
    "for row in df['tokenized_Summary']:\n",
    "    for i in range(len(row)):\n",
    "        words.append(row[i])"
   ]
  },
  {
   "cell_type": "markdown",
   "metadata": {},
   "source": [
    "### Creating dictionary dataframe\n",
    "- This dataframe will serve as a dictionary\n",
    "- column \"lead\" will store 1st word\n",
    "- colum \"follow\" will store the word that follows the corresponding lead word\n",
    "- This would eventually result in a 2nd Order Markov Model"
   ]
  },
  {
   "cell_type": "code",
   "execution_count": 4,
   "metadata": {},
   "outputs": [],
   "source": [
    "lead = []\n",
    "follow = []\n",
    "count = 0\n",
    "\n",
    "for row in df['tokenized_Summary']:\n",
    "    for i in range(len(row)-1):\n",
    "        lead.append(row[i])\n",
    "        follow.append(row[i+1])"
   ]
  },
  {
   "cell_type": "code",
   "execution_count": 5,
   "metadata": {},
   "outputs": [],
   "source": [
    "dict_df = pd.DataFrame(columns = ['lead', 'follow', 'freq'])\n",
    "dict_df['lead'] = lead\n",
    "dict_df['follow'] = follow\n",
    "dict_df['freq']= dict_df.groupby(by=['lead','follow'])['lead','follow'].transform('count').copy()"
   ]
  },
  {
   "cell_type": "code",
   "execution_count": 6,
   "metadata": {},
   "outputs": [
    {
     "data": {
      "text/html": [
       "<div>\n",
       "<style scoped>\n",
       "    .dataframe tbody tr th:only-of-type {\n",
       "        vertical-align: middle;\n",
       "    }\n",
       "\n",
       "    .dataframe tbody tr th {\n",
       "        vertical-align: top;\n",
       "    }\n",
       "\n",
       "    .dataframe thead th {\n",
       "        text-align: right;\n",
       "    }\n",
       "</style>\n",
       "<table border=\"1\" class=\"dataframe\">\n",
       "  <thead>\n",
       "    <tr style=\"text-align: right;\">\n",
       "      <th></th>\n",
       "      <th>lead</th>\n",
       "      <th>follow</th>\n",
       "      <th>freq</th>\n",
       "    </tr>\n",
       "  </thead>\n",
       "  <tbody>\n",
       "    <tr>\n",
       "      <th>0</th>\n",
       "      <td>Good</td>\n",
       "      <td>Quality</td>\n",
       "      <td>162</td>\n",
       "    </tr>\n",
       "    <tr>\n",
       "      <th>1</th>\n",
       "      <td>Quality</td>\n",
       "      <td>Dog</td>\n",
       "      <td>53</td>\n",
       "    </tr>\n",
       "    <tr>\n",
       "      <th>2</th>\n",
       "      <td>Dog</td>\n",
       "      <td>Food</td>\n",
       "      <td>1008</td>\n",
       "    </tr>\n",
       "    <tr>\n",
       "      <th>3</th>\n",
       "      <td>Not</td>\n",
       "      <td>as</td>\n",
       "      <td>1216</td>\n",
       "    </tr>\n",
       "    <tr>\n",
       "      <th>4</th>\n",
       "      <td>as</td>\n",
       "      <td>Advertised</td>\n",
       "      <td>28</td>\n",
       "    </tr>\n",
       "  </tbody>\n",
       "</table>\n",
       "</div>"
      ],
      "text/plain": [
       "      lead      follow  freq\n",
       "0     Good     Quality   162\n",
       "1  Quality         Dog    53\n",
       "2      Dog        Food  1008\n",
       "3      Not          as  1216\n",
       "4       as  Advertised    28"
      ]
     },
     "execution_count": 6,
     "metadata": {},
     "output_type": "execute_result"
    }
   ],
   "source": [
    "dict_df.head()"
   ]
  },
  {
   "cell_type": "code",
   "execution_count": 7,
   "metadata": {},
   "outputs": [
    {
     "data": {
      "text/plain": [
       "(2171388, 3)"
      ]
     },
     "execution_count": 7,
     "metadata": {},
     "output_type": "execute_result"
    }
   ],
   "source": [
    "dict_df.shape"
   ]
  },
  {
   "cell_type": "code",
   "execution_count": 8,
   "metadata": {},
   "outputs": [
    {
     "data": {
      "text/plain": [
       "(416254, 3)"
      ]
     },
     "execution_count": 8,
     "metadata": {},
     "output_type": "execute_result"
    }
   ],
   "source": [
    "dict_df = dict_df.drop_duplicates()\n",
    "dict_df = dict_df.dropna()\n",
    "dict_df.shape"
   ]
  },
  {
   "cell_type": "code",
   "execution_count": 9,
   "metadata": {},
   "outputs": [],
   "source": [
    "small_dict_df = dict_df[0:50000]"
   ]
  },
  {
   "cell_type": "markdown",
   "metadata": {},
   "source": [
    "### Creating a Transition Probability Matrix from our Dictionary\n",
    "- Since i used pandas making a Transition Probability Matrix was fairly easy (use pivot() on the df)\n",
    "- Now we have \"lead\" words as rows, \"follow\" words as columns and values will be the probability of transition from \"lead\" to \"follow\"  "
   ]
  },
  {
   "cell_type": "code",
   "execution_count": 10,
   "metadata": {},
   "outputs": [],
   "source": [
    "prob_matrix = small_dict_df.pivot(index = 'lead', columns= 'follow', values='freq')\n",
    "sum_words = prob_matrix.sum(axis=1)\n",
    "prob_matrix = prob_matrix.apply(lambda x: x/sum_words)"
   ]
  },
  {
   "cell_type": "code",
   "execution_count": 11,
   "metadata": {},
   "outputs": [
    {
     "data": {
      "text/html": [
       "<div>\n",
       "<style scoped>\n",
       "    .dataframe tbody tr th:only-of-type {\n",
       "        vertical-align: middle;\n",
       "    }\n",
       "\n",
       "    .dataframe tbody tr th {\n",
       "        vertical-align: top;\n",
       "    }\n",
       "\n",
       "    .dataframe thead th {\n",
       "        text-align: right;\n",
       "    }\n",
       "</style>\n",
       "<table border=\"1\" class=\"dataframe\">\n",
       "  <thead>\n",
       "    <tr style=\"text-align: right;\">\n",
       "      <th>follow</th>\n",
       "      <th>!</th>\n",
       "      <th>#</th>\n",
       "      <th>$</th>\n",
       "      <th>%</th>\n",
       "      <th>&amp;</th>\n",
       "      <th>'</th>\n",
       "      <th>''</th>\n",
       "      <th>'Bit-O-Honey</th>\n",
       "      <th>'Chowdah</th>\n",
       "      <th>'Delicious</th>\n",
       "      <th>...</th>\n",
       "      <th>zest</th>\n",
       "      <th>zing</th>\n",
       "      <th>ziwi</th>\n",
       "      <th>zots</th>\n",
       "      <th>zuckerman</th>\n",
       "      <th>{</th>\n",
       "      <th>~</th>\n",
       "      <th>~~</th>\n",
       "      <th>«</th>\n",
       "      <th>»</th>\n",
       "    </tr>\n",
       "    <tr>\n",
       "      <th>lead</th>\n",
       "      <th></th>\n",
       "      <th></th>\n",
       "      <th></th>\n",
       "      <th></th>\n",
       "      <th></th>\n",
       "      <th></th>\n",
       "      <th></th>\n",
       "      <th></th>\n",
       "      <th></th>\n",
       "      <th></th>\n",
       "      <th></th>\n",
       "      <th></th>\n",
       "      <th></th>\n",
       "      <th></th>\n",
       "      <th></th>\n",
       "      <th></th>\n",
       "      <th></th>\n",
       "      <th></th>\n",
       "      <th></th>\n",
       "      <th></th>\n",
       "      <th></th>\n",
       "    </tr>\n",
       "  </thead>\n",
       "  <tbody>\n",
       "    <tr>\n",
       "      <th>!</th>\n",
       "      <td>0.880344</td>\n",
       "      <td>NaN</td>\n",
       "      <td>NaN</td>\n",
       "      <td>NaN</td>\n",
       "      <td>NaN</td>\n",
       "      <td>0.00016</td>\n",
       "      <td>0.003327</td>\n",
       "      <td>NaN</td>\n",
       "      <td>NaN</td>\n",
       "      <td>NaN</td>\n",
       "      <td>...</td>\n",
       "      <td>NaN</td>\n",
       "      <td>NaN</td>\n",
       "      <td>NaN</td>\n",
       "      <td>NaN</td>\n",
       "      <td>NaN</td>\n",
       "      <td>NaN</td>\n",
       "      <td>0.000658</td>\n",
       "      <td>NaN</td>\n",
       "      <td>NaN</td>\n",
       "      <td>NaN</td>\n",
       "    </tr>\n",
       "    <tr>\n",
       "      <th>#</th>\n",
       "      <td>NaN</td>\n",
       "      <td>NaN</td>\n",
       "      <td>NaN</td>\n",
       "      <td>NaN</td>\n",
       "      <td>NaN</td>\n",
       "      <td>NaN</td>\n",
       "      <td>NaN</td>\n",
       "      <td>NaN</td>\n",
       "      <td>NaN</td>\n",
       "      <td>NaN</td>\n",
       "      <td>...</td>\n",
       "      <td>NaN</td>\n",
       "      <td>NaN</td>\n",
       "      <td>NaN</td>\n",
       "      <td>NaN</td>\n",
       "      <td>NaN</td>\n",
       "      <td>NaN</td>\n",
       "      <td>NaN</td>\n",
       "      <td>NaN</td>\n",
       "      <td>NaN</td>\n",
       "      <td>NaN</td>\n",
       "    </tr>\n",
       "    <tr>\n",
       "      <th>$</th>\n",
       "      <td>0.031933</td>\n",
       "      <td>NaN</td>\n",
       "      <td>0.611765</td>\n",
       "      <td>NaN</td>\n",
       "      <td>NaN</td>\n",
       "      <td>NaN</td>\n",
       "      <td>NaN</td>\n",
       "      <td>NaN</td>\n",
       "      <td>NaN</td>\n",
       "      <td>NaN</td>\n",
       "      <td>...</td>\n",
       "      <td>NaN</td>\n",
       "      <td>NaN</td>\n",
       "      <td>NaN</td>\n",
       "      <td>NaN</td>\n",
       "      <td>NaN</td>\n",
       "      <td>NaN</td>\n",
       "      <td>NaN</td>\n",
       "      <td>NaN</td>\n",
       "      <td>NaN</td>\n",
       "      <td>NaN</td>\n",
       "    </tr>\n",
       "    <tr>\n",
       "      <th>%</th>\n",
       "      <td>NaN</td>\n",
       "      <td>NaN</td>\n",
       "      <td>NaN</td>\n",
       "      <td>NaN</td>\n",
       "      <td>NaN</td>\n",
       "      <td>NaN</td>\n",
       "      <td>NaN</td>\n",
       "      <td>NaN</td>\n",
       "      <td>NaN</td>\n",
       "      <td>NaN</td>\n",
       "      <td>...</td>\n",
       "      <td>NaN</td>\n",
       "      <td>NaN</td>\n",
       "      <td>NaN</td>\n",
       "      <td>NaN</td>\n",
       "      <td>NaN</td>\n",
       "      <td>NaN</td>\n",
       "      <td>NaN</td>\n",
       "      <td>NaN</td>\n",
       "      <td>NaN</td>\n",
       "      <td>NaN</td>\n",
       "    </tr>\n",
       "    <tr>\n",
       "      <th>&amp;</th>\n",
       "      <td>NaN</td>\n",
       "      <td>NaN</td>\n",
       "      <td>NaN</td>\n",
       "      <td>NaN</td>\n",
       "      <td>NaN</td>\n",
       "      <td>NaN</td>\n",
       "      <td>NaN</td>\n",
       "      <td>NaN</td>\n",
       "      <td>NaN</td>\n",
       "      <td>NaN</td>\n",
       "      <td>...</td>\n",
       "      <td>NaN</td>\n",
       "      <td>NaN</td>\n",
       "      <td>NaN</td>\n",
       "      <td>NaN</td>\n",
       "      <td>NaN</td>\n",
       "      <td>NaN</td>\n",
       "      <td>NaN</td>\n",
       "      <td>NaN</td>\n",
       "      <td>NaN</td>\n",
       "      <td>NaN</td>\n",
       "    </tr>\n",
       "  </tbody>\n",
       "</table>\n",
       "<p>5 rows × 10154 columns</p>\n",
       "</div>"
      ],
      "text/plain": [
       "follow         !   #         $   %   &        '        ''  'Bit-O-Honey  \\\n",
       "lead                                                                      \n",
       "!       0.880344 NaN       NaN NaN NaN  0.00016  0.003327           NaN   \n",
       "#            NaN NaN       NaN NaN NaN      NaN       NaN           NaN   \n",
       "$       0.031933 NaN  0.611765 NaN NaN      NaN       NaN           NaN   \n",
       "%            NaN NaN       NaN NaN NaN      NaN       NaN           NaN   \n",
       "&            NaN NaN       NaN NaN NaN      NaN       NaN           NaN   \n",
       "\n",
       "follow  'Chowdah  'Delicious ...  zest  zing  ziwi  zots  zuckerman   {  \\\n",
       "lead                         ...                                          \n",
       "!            NaN         NaN ...   NaN   NaN   NaN   NaN        NaN NaN   \n",
       "#            NaN         NaN ...   NaN   NaN   NaN   NaN        NaN NaN   \n",
       "$            NaN         NaN ...   NaN   NaN   NaN   NaN        NaN NaN   \n",
       "%            NaN         NaN ...   NaN   NaN   NaN   NaN        NaN NaN   \n",
       "&            NaN         NaN ...   NaN   NaN   NaN   NaN        NaN NaN   \n",
       "\n",
       "follow         ~  ~~   «   »  \n",
       "lead                          \n",
       "!       0.000658 NaN NaN NaN  \n",
       "#            NaN NaN NaN NaN  \n",
       "$            NaN NaN NaN NaN  \n",
       "%            NaN NaN NaN NaN  \n",
       "&            NaN NaN NaN NaN  \n",
       "\n",
       "[5 rows x 10154 columns]"
      ]
     },
     "execution_count": 11,
     "metadata": {},
     "output_type": "execute_result"
    }
   ],
   "source": [
    "prob_matrix.head()"
   ]
  },
  {
   "cell_type": "code",
   "execution_count": 12,
   "metadata": {},
   "outputs": [],
   "source": [
    "# end words will be used to end our generated sentences (attempt to make sentences logically resonable)\n",
    "end_words = []\n",
    "for word in words:\n",
    "    if word[-1] in ['.','!','?'] and word != '.':\n",
    "        end_words.append(word)"
   ]
  },
  {
   "cell_type": "markdown",
   "metadata": {},
   "source": [
    "### heuristic  to generate new sentences using Transition Probability Matrix"
   ]
  },
  {
   "cell_type": "code",
   "execution_count": 13,
   "metadata": {},
   "outputs": [],
   "source": [
    "from numpy.random import choice\n",
    "def make_a_sentence(start):\n",
    "    word= start\n",
    "    # our sentence starts from word\n",
    "    sentence=[word]\n",
    "    # restrict length of our sentence\n",
    "    while len(sentence) < 30:\n",
    "        # numpy choice picks a word using transition probability matrix\n",
    "        next_word = choice(a = list(prob_matrix.columns), p = (prob_matrix.iloc[prob_matrix.index ==word].fillna(0).values)[0])\n",
    "        if next_word == 'EndWord':\n",
    "                continue\n",
    "        elif next_word in end_words:\n",
    "            if len(sentence) > 2:    \n",
    "                sentence.append(next_word)\n",
    "                break\n",
    "            else :\n",
    "                continue\n",
    "        else :\n",
    "            sentence.append(next_word)\n",
    "        word=next_word\n",
    "    sentence = ' '.join(sentence)\n",
    "    return sentence"
   ]
  },
  {
   "cell_type": "markdown",
   "metadata": {},
   "source": [
    "### generate a sentence"
   ]
  },
  {
   "cell_type": "code",
   "execution_count": 19,
   "metadata": {},
   "outputs": [
    {
     "name": "stdout",
     "output_type": "stream",
     "text": [
      "Food I like it 's like crazy for a joke ?\n"
     ]
    }
   ],
   "source": [
    "# Food will be starting word\n",
    "sentence = make_a_sentence('Food')\n",
    "print(sentence)"
   ]
  },
  {
   "cell_type": "markdown",
   "metadata": {},
   "source": [
    "## Comments:\n",
    "- This is just a demonstration of how the approach came through\n",
    "- This would be developed into resuable modules which can output persistant datastructures and use them"
   ]
  }
 ],
 "metadata": {
  "kernelspec": {
   "display_name": "Python 3",
   "language": "python",
   "name": "python3"
  },
  "language_info": {
   "codemirror_mode": {
    "name": "ipython",
    "version": 3
   },
   "file_extension": ".py",
   "mimetype": "text/x-python",
   "name": "python",
   "nbconvert_exporter": "python",
   "pygments_lexer": "ipython3",
   "version": "3.6.5"
  }
 },
 "nbformat": 4,
 "nbformat_minor": 2
}
